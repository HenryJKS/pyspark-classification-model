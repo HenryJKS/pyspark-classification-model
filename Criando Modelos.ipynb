{
 "cells": [
  {
   "cell_type": "code",
   "execution_count": 1,
   "id": "49e84135",
   "metadata": {},
   "outputs": [],
   "source": [
    "import findspark\n",
    "findspark.init()"
   ]
  },
  {
   "cell_type": "code",
   "execution_count": 2,
   "id": "6378e042",
   "metadata": {},
   "outputs": [],
   "source": [
    "from pyspark.sql import SparkSession"
   ]
  },
  {
   "cell_type": "code",
   "execution_count": 3,
   "id": "53d2acb4",
   "metadata": {},
   "outputs": [],
   "source": [
    "spark = SparkSession.builder\\\n",
    "    .master('local[*]')\\\n",
    "    .appName('Classificacao com Spark')\\\n",
    "    .config(\"spark.driver.bindAddress\", \"localhost\") \\\n",
    "    .config(\"spark.ui.port\", \"4050\") \\\n",
    "    .config(\"spark.driver.memory\", \"4g\") \\\n",
    "    .config(\"spark.driver.host\", \"localhost\") \\\n",
    "    .config(\"spark.driver.bindAddress\", \"127.0.0.1\") \\\n",
    "    .getOrCreate()"
   ]
  },
  {
   "cell_type": "code",
   "execution_count": 4,
   "id": "0fb66164",
   "metadata": {},
   "outputs": [
    {
     "data": {
      "text/html": [
       "\n",
       "            <div>\n",
       "                <p><b>SparkSession - in-memory</b></p>\n",
       "                \n",
       "        <div>\n",
       "            <p><b>SparkContext</b></p>\n",
       "\n",
       "            <p><a href=\"http://localhost:4050\">Spark UI</a></p>\n",
       "\n",
       "            <dl>\n",
       "              <dt>Version</dt>\n",
       "                <dd><code>v3.4.1</code></dd>\n",
       "              <dt>Master</dt>\n",
       "                <dd><code>local[*]</code></dd>\n",
       "              <dt>AppName</dt>\n",
       "                <dd><code>Classificacao com Spark</code></dd>\n",
       "            </dl>\n",
       "        </div>\n",
       "        \n",
       "            </div>\n",
       "        "
      ],
      "text/plain": [
       "<pyspark.sql.session.SparkSession at 0x20c664d5e70>"
      ]
     },
     "execution_count": 4,
     "metadata": {},
     "output_type": "execute_result"
    }
   ],
   "source": [
    "spark"
   ]
  },
  {
   "cell_type": "code",
   "execution_count": 5,
   "id": "18288422",
   "metadata": {},
   "outputs": [],
   "source": [
    "dataset = spark.read.parquet('Dataset Modelo/', inferSchema = True)"
   ]
  },
  {
   "cell_type": "code",
   "execution_count": 6,
   "id": "dd1a4d32",
   "metadata": {},
   "outputs": [
    {
     "name": "stdout",
     "output_type": "stream",
     "text": [
      "root\n",
      " |-- id: integer (nullable = true)\n",
      " |-- Mais65anos: integer (nullable = true)\n",
      " |-- MesesDeContrato: integer (nullable = true)\n",
      " |-- MesesCobrados: double (nullable = true)\n",
      " |-- Churn: integer (nullable = true)\n",
      " |-- Conjuge: integer (nullable = true)\n",
      " |-- Dependentes: integer (nullable = true)\n",
      " |-- TelefoneFixo: integer (nullable = true)\n",
      " |-- MaisDeUmaLinhaTelefonica: integer (nullable = true)\n",
      " |-- SegurancaOnline: integer (nullable = true)\n",
      " |-- BackupOnline: integer (nullable = true)\n",
      " |-- SeguroDispositivo: integer (nullable = true)\n",
      " |-- SuporteTecnico: integer (nullable = true)\n",
      " |-- TVaCabo: integer (nullable = true)\n",
      " |-- StreamingFilmes: integer (nullable = true)\n",
      " |-- ContaCorreio: integer (nullable = true)\n",
      " |-- Internet_DSL: integer (nullable = true)\n",
      " |-- Internet_FibraOptica: integer (nullable = true)\n",
      " |-- Internet_Nao: integer (nullable = true)\n",
      " |-- TipoContrato_Mensalmente: integer (nullable = true)\n",
      " |-- TipoContrato_UmAno: integer (nullable = true)\n",
      " |-- TipoContrato_DoisAnos: integer (nullable = true)\n",
      " |-- MetodoPagamento_DebitoEmConta: integer (nullable = true)\n",
      " |-- MetodoPagamento_CartaoCredito: integer (nullable = true)\n",
      " |-- MetodoPagamento_BoletoEletronico: integer (nullable = true)\n",
      " |-- MetodoPagamento_Boleto: integer (nullable = true)\n",
      "\n"
     ]
    }
   ],
   "source": [
    "dataset.printSchema()"
   ]
  },
  {
   "cell_type": "code",
   "execution_count": 7,
   "id": "d0693402",
   "metadata": {},
   "outputs": [
    {
     "data": {
      "text/html": [
       "<div>\n",
       "<style scoped>\n",
       "    .dataframe tbody tr th:only-of-type {\n",
       "        vertical-align: middle;\n",
       "    }\n",
       "\n",
       "    .dataframe tbody tr th {\n",
       "        vertical-align: top;\n",
       "    }\n",
       "\n",
       "    .dataframe thead th {\n",
       "        text-align: right;\n",
       "    }\n",
       "</style>\n",
       "<table border=\"1\" class=\"dataframe\">\n",
       "  <thead>\n",
       "    <tr style=\"text-align: right;\">\n",
       "      <th></th>\n",
       "      <th>id</th>\n",
       "      <th>Mais65anos</th>\n",
       "      <th>MesesDeContrato</th>\n",
       "      <th>MesesCobrados</th>\n",
       "      <th>Churn</th>\n",
       "      <th>Conjuge</th>\n",
       "      <th>Dependentes</th>\n",
       "      <th>TelefoneFixo</th>\n",
       "      <th>MaisDeUmaLinhaTelefonica</th>\n",
       "      <th>SegurancaOnline</th>\n",
       "      <th>...</th>\n",
       "      <th>Internet_DSL</th>\n",
       "      <th>Internet_FibraOptica</th>\n",
       "      <th>Internet_Nao</th>\n",
       "      <th>TipoContrato_Mensalmente</th>\n",
       "      <th>TipoContrato_UmAno</th>\n",
       "      <th>TipoContrato_DoisAnos</th>\n",
       "      <th>MetodoPagamento_DebitoEmConta</th>\n",
       "      <th>MetodoPagamento_CartaoCredito</th>\n",
       "      <th>MetodoPagamento_BoletoEletronico</th>\n",
       "      <th>MetodoPagamento_Boleto</th>\n",
       "    </tr>\n",
       "  </thead>\n",
       "  <tbody>\n",
       "    <tr>\n",
       "      <th>0</th>\n",
       "      <td>7982</td>\n",
       "      <td>0</td>\n",
       "      <td>1</td>\n",
       "      <td>45.305408</td>\n",
       "      <td>1</td>\n",
       "      <td>0</td>\n",
       "      <td>0</td>\n",
       "      <td>0</td>\n",
       "      <td>0</td>\n",
       "      <td>0</td>\n",
       "      <td>...</td>\n",
       "      <td>1</td>\n",
       "      <td>0</td>\n",
       "      <td>0</td>\n",
       "      <td>1</td>\n",
       "      <td>0</td>\n",
       "      <td>0</td>\n",
       "      <td>0</td>\n",
       "      <td>0</td>\n",
       "      <td>1</td>\n",
       "      <td>0</td>\n",
       "    </tr>\n",
       "    <tr>\n",
       "      <th>1</th>\n",
       "      <td>9465</td>\n",
       "      <td>0</td>\n",
       "      <td>60</td>\n",
       "      <td>103.614223</td>\n",
       "      <td>1</td>\n",
       "      <td>1</td>\n",
       "      <td>0</td>\n",
       "      <td>1</td>\n",
       "      <td>1</td>\n",
       "      <td>0</td>\n",
       "      <td>...</td>\n",
       "      <td>0</td>\n",
       "      <td>1</td>\n",
       "      <td>0</td>\n",
       "      <td>1</td>\n",
       "      <td>0</td>\n",
       "      <td>0</td>\n",
       "      <td>0</td>\n",
       "      <td>0</td>\n",
       "      <td>1</td>\n",
       "      <td>0</td>\n",
       "    </tr>\n",
       "    <tr>\n",
       "      <th>2</th>\n",
       "      <td>2122</td>\n",
       "      <td>0</td>\n",
       "      <td>12</td>\n",
       "      <td>75.850000</td>\n",
       "      <td>0</td>\n",
       "      <td>0</td>\n",
       "      <td>0</td>\n",
       "      <td>1</td>\n",
       "      <td>1</td>\n",
       "      <td>0</td>\n",
       "      <td>...</td>\n",
       "      <td>1</td>\n",
       "      <td>0</td>\n",
       "      <td>0</td>\n",
       "      <td>0</td>\n",
       "      <td>1</td>\n",
       "      <td>0</td>\n",
       "      <td>0</td>\n",
       "      <td>0</td>\n",
       "      <td>0</td>\n",
       "      <td>1</td>\n",
       "    </tr>\n",
       "    <tr>\n",
       "      <th>3</th>\n",
       "      <td>3997</td>\n",
       "      <td>0</td>\n",
       "      <td>69</td>\n",
       "      <td>61.450000</td>\n",
       "      <td>0</td>\n",
       "      <td>1</td>\n",
       "      <td>0</td>\n",
       "      <td>1</td>\n",
       "      <td>0</td>\n",
       "      <td>0</td>\n",
       "      <td>...</td>\n",
       "      <td>1</td>\n",
       "      <td>0</td>\n",
       "      <td>0</td>\n",
       "      <td>0</td>\n",
       "      <td>0</td>\n",
       "      <td>1</td>\n",
       "      <td>0</td>\n",
       "      <td>1</td>\n",
       "      <td>0</td>\n",
       "      <td>0</td>\n",
       "    </tr>\n",
       "    <tr>\n",
       "      <th>4</th>\n",
       "      <td>6654</td>\n",
       "      <td>0</td>\n",
       "      <td>7</td>\n",
       "      <td>86.500000</td>\n",
       "      <td>1</td>\n",
       "      <td>1</td>\n",
       "      <td>0</td>\n",
       "      <td>1</td>\n",
       "      <td>1</td>\n",
       "      <td>0</td>\n",
       "      <td>...</td>\n",
       "      <td>0</td>\n",
       "      <td>1</td>\n",
       "      <td>0</td>\n",
       "      <td>1</td>\n",
       "      <td>0</td>\n",
       "      <td>0</td>\n",
       "      <td>0</td>\n",
       "      <td>0</td>\n",
       "      <td>1</td>\n",
       "      <td>0</td>\n",
       "    </tr>\n",
       "    <tr>\n",
       "      <th>...</th>\n",
       "      <td>...</td>\n",
       "      <td>...</td>\n",
       "      <td>...</td>\n",
       "      <td>...</td>\n",
       "      <td>...</td>\n",
       "      <td>...</td>\n",
       "      <td>...</td>\n",
       "      <td>...</td>\n",
       "      <td>...</td>\n",
       "      <td>...</td>\n",
       "      <td>...</td>\n",
       "      <td>...</td>\n",
       "      <td>...</td>\n",
       "      <td>...</td>\n",
       "      <td>...</td>\n",
       "      <td>...</td>\n",
       "      <td>...</td>\n",
       "      <td>...</td>\n",
       "      <td>...</td>\n",
       "      <td>...</td>\n",
       "      <td>...</td>\n",
       "    </tr>\n",
       "    <tr>\n",
       "      <th>10343</th>\n",
       "      <td>1476</td>\n",
       "      <td>0</td>\n",
       "      <td>2</td>\n",
       "      <td>20.250000</td>\n",
       "      <td>0</td>\n",
       "      <td>0</td>\n",
       "      <td>0</td>\n",
       "      <td>1</td>\n",
       "      <td>0</td>\n",
       "      <td>0</td>\n",
       "      <td>...</td>\n",
       "      <td>0</td>\n",
       "      <td>0</td>\n",
       "      <td>1</td>\n",
       "      <td>1</td>\n",
       "      <td>0</td>\n",
       "      <td>0</td>\n",
       "      <td>0</td>\n",
       "      <td>0</td>\n",
       "      <td>0</td>\n",
       "      <td>1</td>\n",
       "    </tr>\n",
       "    <tr>\n",
       "      <th>10344</th>\n",
       "      <td>1138</td>\n",
       "      <td>0</td>\n",
       "      <td>11</td>\n",
       "      <td>65.150000</td>\n",
       "      <td>0</td>\n",
       "      <td>1</td>\n",
       "      <td>1</td>\n",
       "      <td>1</td>\n",
       "      <td>1</td>\n",
       "      <td>1</td>\n",
       "      <td>...</td>\n",
       "      <td>1</td>\n",
       "      <td>0</td>\n",
       "      <td>0</td>\n",
       "      <td>1</td>\n",
       "      <td>0</td>\n",
       "      <td>0</td>\n",
       "      <td>1</td>\n",
       "      <td>0</td>\n",
       "      <td>0</td>\n",
       "      <td>0</td>\n",
       "    </tr>\n",
       "    <tr>\n",
       "      <th>10345</th>\n",
       "      <td>5125</td>\n",
       "      <td>0</td>\n",
       "      <td>11</td>\n",
       "      <td>94.000000</td>\n",
       "      <td>1</td>\n",
       "      <td>1</td>\n",
       "      <td>0</td>\n",
       "      <td>1</td>\n",
       "      <td>1</td>\n",
       "      <td>0</td>\n",
       "      <td>...</td>\n",
       "      <td>0</td>\n",
       "      <td>1</td>\n",
       "      <td>0</td>\n",
       "      <td>1</td>\n",
       "      <td>0</td>\n",
       "      <td>0</td>\n",
       "      <td>0</td>\n",
       "      <td>0</td>\n",
       "      <td>1</td>\n",
       "      <td>0</td>\n",
       "    </tr>\n",
       "    <tr>\n",
       "      <th>10346</th>\n",
       "      <td>2376</td>\n",
       "      <td>0</td>\n",
       "      <td>11</td>\n",
       "      <td>61.250000</td>\n",
       "      <td>0</td>\n",
       "      <td>0</td>\n",
       "      <td>0</td>\n",
       "      <td>1</td>\n",
       "      <td>0</td>\n",
       "      <td>0</td>\n",
       "      <td>...</td>\n",
       "      <td>1</td>\n",
       "      <td>0</td>\n",
       "      <td>0</td>\n",
       "      <td>0</td>\n",
       "      <td>1</td>\n",
       "      <td>0</td>\n",
       "      <td>0</td>\n",
       "      <td>0</td>\n",
       "      <td>1</td>\n",
       "      <td>0</td>\n",
       "    </tr>\n",
       "    <tr>\n",
       "      <th>10347</th>\n",
       "      <td>6078</td>\n",
       "      <td>0</td>\n",
       "      <td>55</td>\n",
       "      <td>90.150000</td>\n",
       "      <td>0</td>\n",
       "      <td>1</td>\n",
       "      <td>0</td>\n",
       "      <td>1</td>\n",
       "      <td>1</td>\n",
       "      <td>1</td>\n",
       "      <td>...</td>\n",
       "      <td>1</td>\n",
       "      <td>0</td>\n",
       "      <td>0</td>\n",
       "      <td>0</td>\n",
       "      <td>1</td>\n",
       "      <td>0</td>\n",
       "      <td>0</td>\n",
       "      <td>0</td>\n",
       "      <td>1</td>\n",
       "      <td>0</td>\n",
       "    </tr>\n",
       "  </tbody>\n",
       "</table>\n",
       "<p>10348 rows × 26 columns</p>\n",
       "</div>"
      ],
      "text/plain": [
       "         id  Mais65anos  MesesDeContrato  MesesCobrados  Churn  Conjuge  \\\n",
       "0      7982           0                1      45.305408      1        0   \n",
       "1      9465           0               60     103.614223      1        1   \n",
       "2      2122           0               12      75.850000      0        0   \n",
       "3      3997           0               69      61.450000      0        1   \n",
       "4      6654           0                7      86.500000      1        1   \n",
       "...     ...         ...              ...            ...    ...      ...   \n",
       "10343  1476           0                2      20.250000      0        0   \n",
       "10344  1138           0               11      65.150000      0        1   \n",
       "10345  5125           0               11      94.000000      1        1   \n",
       "10346  2376           0               11      61.250000      0        0   \n",
       "10347  6078           0               55      90.150000      0        1   \n",
       "\n",
       "       Dependentes  TelefoneFixo  MaisDeUmaLinhaTelefonica  SegurancaOnline  \\\n",
       "0                0             0                         0                0   \n",
       "1                0             1                         1                0   \n",
       "2                0             1                         1                0   \n",
       "3                0             1                         0                0   \n",
       "4                0             1                         1                0   \n",
       "...            ...           ...                       ...              ...   \n",
       "10343            0             1                         0                0   \n",
       "10344            1             1                         1                1   \n",
       "10345            0             1                         1                0   \n",
       "10346            0             1                         0                0   \n",
       "10347            0             1                         1                1   \n",
       "\n",
       "       ...  Internet_DSL  Internet_FibraOptica  Internet_Nao  \\\n",
       "0      ...             1                     0             0   \n",
       "1      ...             0                     1             0   \n",
       "2      ...             1                     0             0   \n",
       "3      ...             1                     0             0   \n",
       "4      ...             0                     1             0   \n",
       "...    ...           ...                   ...           ...   \n",
       "10343  ...             0                     0             1   \n",
       "10344  ...             1                     0             0   \n",
       "10345  ...             0                     1             0   \n",
       "10346  ...             1                     0             0   \n",
       "10347  ...             1                     0             0   \n",
       "\n",
       "       TipoContrato_Mensalmente  TipoContrato_UmAno  TipoContrato_DoisAnos  \\\n",
       "0                             1                   0                      0   \n",
       "1                             1                   0                      0   \n",
       "2                             0                   1                      0   \n",
       "3                             0                   0                      1   \n",
       "4                             1                   0                      0   \n",
       "...                         ...                 ...                    ...   \n",
       "10343                         1                   0                      0   \n",
       "10344                         1                   0                      0   \n",
       "10345                         1                   0                      0   \n",
       "10346                         0                   1                      0   \n",
       "10347                         0                   1                      0   \n",
       "\n",
       "       MetodoPagamento_DebitoEmConta  MetodoPagamento_CartaoCredito  \\\n",
       "0                                  0                              0   \n",
       "1                                  0                              0   \n",
       "2                                  0                              0   \n",
       "3                                  0                              1   \n",
       "4                                  0                              0   \n",
       "...                              ...                            ...   \n",
       "10343                              0                              0   \n",
       "10344                              1                              0   \n",
       "10345                              0                              0   \n",
       "10346                              0                              0   \n",
       "10347                              0                              0   \n",
       "\n",
       "       MetodoPagamento_BoletoEletronico  MetodoPagamento_Boleto  \n",
       "0                                     1                       0  \n",
       "1                                     1                       0  \n",
       "2                                     0                       1  \n",
       "3                                     0                       0  \n",
       "4                                     1                       0  \n",
       "...                                 ...                     ...  \n",
       "10343                                 0                       1  \n",
       "10344                                 0                       0  \n",
       "10345                                 1                       0  \n",
       "10346                                 1                       0  \n",
       "10347                                 1                       0  \n",
       "\n",
       "[10348 rows x 26 columns]"
      ]
     },
     "execution_count": 7,
     "metadata": {},
     "output_type": "execute_result"
    }
   ],
   "source": [
    "dataset.toPandas()"
   ]
  },
  {
   "cell_type": "markdown",
   "id": "36b122d5",
   "metadata": {},
   "source": [
    "# Regressão Logistica"
   ]
  },
  {
   "cell_type": "markdown",
   "id": "e4f1d25d",
   "metadata": {},
   "source": [
    "##### A regressão logística é um método popular para prever uma resposta categórica, podemos prever um resultado binário usando regressão logiística binominal ou podemos prever um resultado multiclasse usando regressão logistica multinominal"
   ]
  },
  {
   "cell_type": "code",
   "execution_count": 8,
   "id": "d22ff3c9",
   "metadata": {},
   "outputs": [],
   "source": [
    "from pyspark.ml.feature import VectorAssembler"
   ]
  },
  {
   "cell_type": "code",
   "execution_count": 9,
   "id": "5cce2aee",
   "metadata": {},
   "outputs": [],
   "source": [
    "# Renomeando a coluna\n",
    "dataset = dataset.withColumnRenamed('Churn', 'label')"
   ]
  },
  {
   "cell_type": "code",
   "execution_count": 10,
   "id": "a24133ae",
   "metadata": {},
   "outputs": [
    {
     "data": {
      "text/html": [
       "<div>\n",
       "<style scoped>\n",
       "    .dataframe tbody tr th:only-of-type {\n",
       "        vertical-align: middle;\n",
       "    }\n",
       "\n",
       "    .dataframe tbody tr th {\n",
       "        vertical-align: top;\n",
       "    }\n",
       "\n",
       "    .dataframe thead th {\n",
       "        text-align: right;\n",
       "    }\n",
       "</style>\n",
       "<table border=\"1\" class=\"dataframe\">\n",
       "  <thead>\n",
       "    <tr style=\"text-align: right;\">\n",
       "      <th></th>\n",
       "      <th>id</th>\n",
       "      <th>Mais65anos</th>\n",
       "      <th>MesesDeContrato</th>\n",
       "      <th>MesesCobrados</th>\n",
       "      <th>label</th>\n",
       "      <th>Conjuge</th>\n",
       "      <th>Dependentes</th>\n",
       "      <th>TelefoneFixo</th>\n",
       "      <th>MaisDeUmaLinhaTelefonica</th>\n",
       "      <th>SegurancaOnline</th>\n",
       "      <th>...</th>\n",
       "      <th>Internet_DSL</th>\n",
       "      <th>Internet_FibraOptica</th>\n",
       "      <th>Internet_Nao</th>\n",
       "      <th>TipoContrato_Mensalmente</th>\n",
       "      <th>TipoContrato_UmAno</th>\n",
       "      <th>TipoContrato_DoisAnos</th>\n",
       "      <th>MetodoPagamento_DebitoEmConta</th>\n",
       "      <th>MetodoPagamento_CartaoCredito</th>\n",
       "      <th>MetodoPagamento_BoletoEletronico</th>\n",
       "      <th>MetodoPagamento_Boleto</th>\n",
       "    </tr>\n",
       "  </thead>\n",
       "  <tbody>\n",
       "    <tr>\n",
       "      <th>0</th>\n",
       "      <td>7982</td>\n",
       "      <td>0</td>\n",
       "      <td>1</td>\n",
       "      <td>45.305408</td>\n",
       "      <td>1</td>\n",
       "      <td>0</td>\n",
       "      <td>0</td>\n",
       "      <td>0</td>\n",
       "      <td>0</td>\n",
       "      <td>0</td>\n",
       "      <td>...</td>\n",
       "      <td>1</td>\n",
       "      <td>0</td>\n",
       "      <td>0</td>\n",
       "      <td>1</td>\n",
       "      <td>0</td>\n",
       "      <td>0</td>\n",
       "      <td>0</td>\n",
       "      <td>0</td>\n",
       "      <td>1</td>\n",
       "      <td>0</td>\n",
       "    </tr>\n",
       "  </tbody>\n",
       "</table>\n",
       "<p>1 rows × 26 columns</p>\n",
       "</div>"
      ],
      "text/plain": [
       "     id  Mais65anos  MesesDeContrato  MesesCobrados  label  Conjuge  \\\n",
       "0  7982           0                1      45.305408      1        0   \n",
       "\n",
       "   Dependentes  TelefoneFixo  MaisDeUmaLinhaTelefonica  SegurancaOnline  ...  \\\n",
       "0            0             0                         0                0  ...   \n",
       "\n",
       "   Internet_DSL  Internet_FibraOptica  Internet_Nao  TipoContrato_Mensalmente  \\\n",
       "0             1                     0             0                         1   \n",
       "\n",
       "   TipoContrato_UmAno  TipoContrato_DoisAnos  MetodoPagamento_DebitoEmConta  \\\n",
       "0                   0                      0                              0   \n",
       "\n",
       "   MetodoPagamento_CartaoCredito  MetodoPagamento_BoletoEletronico  \\\n",
       "0                              0                                 1   \n",
       "\n",
       "   MetodoPagamento_Boleto  \n",
       "0                       0  \n",
       "\n",
       "[1 rows x 26 columns]"
      ]
     },
     "execution_count": 10,
     "metadata": {},
     "output_type": "execute_result"
    }
   ],
   "source": [
    "dataset.limit(1).toPandas()"
   ]
  },
  {
   "cell_type": "code",
   "execution_count": 11,
   "id": "72242bdf",
   "metadata": {},
   "outputs": [],
   "source": [
    "# Precisamos criar as features, que são todas as colunas que serão usadas na previsão\n",
    "# Importante: O 'label' não pode estar na features, pois é o valor que precisamos descobrir\n",
    "X = dataset.columns\n",
    "X.remove('label')\n",
    "X.remove('id')"
   ]
  },
  {
   "cell_type": "code",
   "execution_count": 12,
   "id": "a0a851ff",
   "metadata": {},
   "outputs": [
    {
     "data": {
      "text/plain": [
       "['Mais65anos',\n",
       " 'MesesDeContrato',\n",
       " 'MesesCobrados',\n",
       " 'Conjuge',\n",
       " 'Dependentes',\n",
       " 'TelefoneFixo',\n",
       " 'MaisDeUmaLinhaTelefonica',\n",
       " 'SegurancaOnline',\n",
       " 'BackupOnline',\n",
       " 'SeguroDispositivo',\n",
       " 'SuporteTecnico',\n",
       " 'TVaCabo',\n",
       " 'StreamingFilmes',\n",
       " 'ContaCorreio',\n",
       " 'Internet_DSL',\n",
       " 'Internet_FibraOptica',\n",
       " 'Internet_Nao',\n",
       " 'TipoContrato_Mensalmente',\n",
       " 'TipoContrato_UmAno',\n",
       " 'TipoContrato_DoisAnos',\n",
       " 'MetodoPagamento_DebitoEmConta',\n",
       " 'MetodoPagamento_CartaoCredito',\n",
       " 'MetodoPagamento_BoletoEletronico',\n",
       " 'MetodoPagamento_Boleto']"
      ]
     },
     "execution_count": 12,
     "metadata": {},
     "output_type": "execute_result"
    }
   ],
   "source": [
    "X"
   ]
  },
  {
   "cell_type": "code",
   "execution_count": 13,
   "id": "8b4e01f5",
   "metadata": {},
   "outputs": [],
   "source": [
    "assembler = VectorAssembler(inputCols=X, outputCol='features')"
   ]
  },
  {
   "cell_type": "code",
   "execution_count": 14,
   "id": "c9629b32",
   "metadata": {},
   "outputs": [],
   "source": [
    "# No transform passamos o dataset que é usada para previsão, e faremos o select com as variaveis que criamos\n",
    "dataset_preparado = assembler.transform(dataset).select('features', 'label')"
   ]
  },
  {
   "cell_type": "code",
   "execution_count": 15,
   "id": "72581e86",
   "metadata": {},
   "outputs": [
    {
     "name": "stdout",
     "output_type": "stream",
     "text": [
      "+-----------------------------------------------------------------------------------------------------------+-----+\n",
      "|features                                                                                                   |label|\n",
      "+-----------------------------------------------------------------------------------------------------------+-----+\n",
      "|(24,[1,2,11,12,13,14,17,22],[1.0,45.30540797610398,1.0,1.0,1.0,1.0,1.0,1.0])                               |1    |\n",
      "|(24,[1,2,3,5,6,8,9,11,12,13,15,17,22],[60.0,103.6142230120257,1.0,1.0,1.0,1.0,1.0,1.0,1.0,1.0,1.0,1.0,1.0])|1    |\n",
      "|(24,[1,2,5,6,10,11,12,13,14,18,23],[12.0,75.85,1.0,1.0,1.0,1.0,1.0,1.0,1.0,1.0,1.0])                       |0    |\n",
      "|(24,[1,2,3,5,8,12,13,14,19,21],[69.0,61.45,1.0,1.0,1.0,1.0,1.0,1.0,1.0,1.0])                               |0    |\n",
      "|(24,[1,2,3,5,6,11,13,15,17,22],[7.0,86.5,1.0,1.0,1.0,1.0,1.0,1.0,1.0,1.0])                                 |1    |\n",
      "|(24,[1,2,5,6,12,13,15,17,22],[14.0,85.03742670311915,1.0,1.0,1.0,1.0,1.0,1.0,1.0])                         |1    |\n",
      "|(24,[1,2,3,5,6,8,9,10,11,12,13,15,18,20],[57.0,109.4,1.0,1.0,1.0,1.0,1.0,1.0,1.0,1.0,1.0,1.0,1.0,1.0])     |0    |\n",
      "|(24,[1,2,5,6,15,17,23],[18.0,74.15,1.0,1.0,1.0,1.0,1.0])                                                   |0    |\n",
      "|(24,[1,2,3,5,7,8,10,14,17,23],[28.0,60.9,1.0,1.0,1.0,1.0,1.0,1.0,1.0,1.0])                                 |0    |\n",
      "|(24,[1,2,3,5,12,13,15,17,22],[46.0,80.8824189403559,1.0,1.0,1.0,1.0,1.0,1.0,1.0])                          |1    |\n",
      "+-----------------------------------------------------------------------------------------------------------+-----+\n",
      "only showing top 10 rows\n",
      "\n"
     ]
    }
   ],
   "source": [
    "dataset_preparado.show(10, False)"
   ]
  },
  {
   "cell_type": "markdown",
   "id": "b98c99a4",
   "metadata": {},
   "source": [
    "# Ajuste e previsão"
   ]
  },
  {
   "cell_type": "markdown",
   "id": "5610128d",
   "metadata": {},
   "source": [
    "#### Para começar o treinamento precisamos separa nossos dados entre \"treino\" e \"teste\""
   ]
  },
  {
   "cell_type": "code",
   "execution_count": 16,
   "id": "d6ea9301",
   "metadata": {},
   "outputs": [],
   "source": [
    "v_seed = 101"
   ]
  },
  {
   "cell_type": "code",
   "execution_count": 17,
   "id": "447f9419",
   "metadata": {},
   "outputs": [],
   "source": [
    "# Por padrão são usados 70% para treino e 30% para teste\n",
    "treino, teste = dataset_preparado.randomSplit([0.7, 0.3], seed=v_seed)"
   ]
  },
  {
   "cell_type": "code",
   "execution_count": 18,
   "id": "1e793336",
   "metadata": {},
   "outputs": [
    {
     "data": {
      "text/plain": [
       "7206"
      ]
     },
     "execution_count": 18,
     "metadata": {},
     "output_type": "execute_result"
    }
   ],
   "source": [
    "treino.count()"
   ]
  },
  {
   "cell_type": "code",
   "execution_count": 19,
   "id": "ce140769",
   "metadata": {},
   "outputs": [
    {
     "data": {
      "text/plain": [
       "3142"
      ]
     },
     "execution_count": 19,
     "metadata": {},
     "output_type": "execute_result"
    }
   ],
   "source": [
    "teste.count()"
   ]
  },
  {
   "cell_type": "markdown",
   "id": "0bb3c91b",
   "metadata": {},
   "source": [
    "# Usando a Regressão Logística"
   ]
  },
  {
   "cell_type": "code",
   "execution_count": 20,
   "id": "d072ccae",
   "metadata": {},
   "outputs": [],
   "source": [
    "from pyspark.ml.classification import LogisticRegression"
   ]
  },
  {
   "cell_type": "code",
   "execution_count": 21,
   "id": "bf091480",
   "metadata": {},
   "outputs": [],
   "source": [
    "lr = LogisticRegression()"
   ]
  },
  {
   "cell_type": "code",
   "execution_count": 22,
   "id": "9f428033",
   "metadata": {},
   "outputs": [],
   "source": [
    "# Criando Modelo para ajustar o modelo de treino\n",
    "modelo_lr = lr.fit(treino)"
   ]
  },
  {
   "cell_type": "code",
   "execution_count": 23,
   "id": "8d169352",
   "metadata": {},
   "outputs": [],
   "source": [
    "# Classificando o modelo de teste\n",
    "previsoes_lr_teste = modelo_lr.transform(teste)"
   ]
  },
  {
   "cell_type": "code",
   "execution_count": 24,
   "id": "a3748e54",
   "metadata": {},
   "outputs": [
    {
     "name": "stdout",
     "output_type": "stream",
     "text": [
      "+--------------------+-----+--------------------+--------------------+----------+\n",
      "|            features|label|       rawPrediction|         probability|prediction|\n",
      "+--------------------+-----+--------------------+--------------------+----------+\n",
      "|(24,[0,1,2,3,4,5,...|    0|[3.02174179751551...|[0.95354674000282...|       0.0|\n",
      "|(24,[0,1,2,3,4,5,...|    0|[-0.0922192966076...|[0.47696150091605...|       1.0|\n",
      "|(24,[0,1,2,3,4,5,...|    1|[0.18744121711361...|[0.54672358463156...|       0.0|\n",
      "|(24,[0,1,2,3,4,5,...|    1|[0.91716501260103...|[0.71446410549163...|       0.0|\n",
      "|(24,[0,1,2,3,4,5,...|    0|[-0.1495904711610...|[0.46267196467801...|       1.0|\n",
      "|(24,[0,1,2,3,4,5,...|    0|[-0.1680594619286...|[0.45808374494006...|       1.0|\n",
      "|(24,[0,1,2,3,4,5,...|    0|[-1.4170949608173...|[0.19511740608882...|       1.0|\n",
      "|(24,[0,1,2,3,4,5,...|    0|[0.14194260698794...|[0.53542619200881...|       0.0|\n",
      "|(24,[0,1,2,3,4,5,...|    0|[0.67046644011599...|[0.66160759507905...|       0.0|\n",
      "|(24,[0,1,2,3,4,5,...|    0|[1.46841036244999...|[0.81281564870727...|       0.0|\n",
      "|(24,[0,1,2,3,4,5,...|    1|[-0.2187083605333...|[0.44553982138394...|       1.0|\n",
      "|(24,[0,1,2,3,4,5,...|    1|[-1.0342537570067...|[0.26226025614667...|       1.0|\n",
      "|(24,[0,1,2,3,4,5,...|    0|[5.50017227754075...|[0.99593056056380...|       0.0|\n",
      "|(24,[0,1,2,3,4,8,...|    0|[0.78512618330368...|[0.68678387079939...|       0.0|\n",
      "|(24,[0,1,2,3,4,8,...|    0|[0.84647423373263...|[0.69982700991647...|       0.0|\n",
      "|(24,[0,1,2,3,4,8,...|    0|[2.71891428132878...|[0.93813354968549...|       0.0|\n",
      "|(24,[0,1,2,3,5,6,...|    0|[4.47635640497720...|[0.98875314765919...|       0.0|\n",
      "|(24,[0,1,2,3,5,6,...|    0|[1.61650336401316...|[0.83431233628064...|       0.0|\n",
      "|(24,[0,1,2,3,5,6,...|    0|[3.44539231448552...|[0.96909343212403...|       0.0|\n",
      "|(24,[0,1,2,3,5,6,...|    0|[3.42849251731228...|[0.96858322780664...|       0.0|\n",
      "+--------------------+-----+--------------------+--------------------+----------+\n",
      "only showing top 20 rows\n",
      "\n"
     ]
    }
   ],
   "source": [
    "previsoes_lr_teste.show()"
   ]
  },
  {
   "cell_type": "markdown",
   "id": "9e4d4c19",
   "metadata": {},
   "source": [
    "# Métricas"
   ]
  },
  {
   "cell_type": "code",
   "execution_count": 25,
   "id": "d6c142f7",
   "metadata": {},
   "outputs": [],
   "source": [
    "resumo_lr_treino = modelo_lr.summary"
   ]
  },
  {
   "cell_type": "code",
   "execution_count": 26,
   "id": "f2697827",
   "metadata": {},
   "outputs": [
    {
     "data": {
      "text/plain": [
       "0.7849014709963918"
      ]
     },
     "execution_count": 26,
     "metadata": {},
     "output_type": "execute_result"
    }
   ],
   "source": [
    "resumo_lr_treino.accuracy"
   ]
  },
  {
   "cell_type": "code",
   "execution_count": 27,
   "id": "23aa6944",
   "metadata": {
    "scrolled": true
   },
   "outputs": [
    {
     "name": "stdout",
     "output_type": "stream",
     "text": [
      "Acurácia: 0.784901\n",
      "Precisão: 0.770686\n",
      "Recall: 0.812517\n",
      "F1: 0.791049\n"
     ]
    }
   ],
   "source": [
    "print(\"Acurácia: %f\" % resumo_lr_treino.accuracy)\n",
    "print(\"Precisão: %f\" % resumo_lr_treino.precisionByLabel[1])\n",
    "print(\"Recall: %f\" % resumo_lr_treino.recallByLabel[1])\n",
    "print(\"F1: %f\" % resumo_lr_treino.fMeasureByLabel()[1])"
   ]
  },
  {
   "cell_type": "code",
   "execution_count": 28,
   "id": "fe4661e8",
   "metadata": {},
   "outputs": [],
   "source": [
    "from pyspark.sql import functions as f"
   ]
  },
  {
   "cell_type": "code",
   "execution_count": 29,
   "id": "988473c7",
   "metadata": {},
   "outputs": [
    {
     "data": {
      "text/plain": [
       "1256"
      ]
     },
     "execution_count": 29,
     "metadata": {},
     "output_type": "execute_result"
    }
   ],
   "source": [
    "# Precisamos criar uma matriz de confusão, para ver como os dados de teste se performou\n",
    "previsoes_lr_teste.select('label', 'prediction').where((f.col('label') == 1) & (f.col('prediction') == 1)).count()"
   ]
  },
  {
   "cell_type": "code",
   "execution_count": 30,
   "id": "d69dcfd9",
   "metadata": {},
   "outputs": [
    {
     "name": "stdout",
     "output_type": "stream",
     "text": [
      "1256 1179 400 307\n"
     ]
    }
   ],
   "source": [
    "tp = previsoes_lr_teste.select('label', 'prediction').where((f.col('label') == 1) & (f.col('prediction') == 1)).count()\n",
    "tn = previsoes_lr_teste.select('label', 'prediction').where((f.col('label') == 0) & (f.col('prediction') == 0)).count()\n",
    "fp = previsoes_lr_teste.select('label', 'prediction').where((f.col('label') == 0) & (f.col('prediction') == 1)).count()\n",
    "fn = previsoes_lr_teste.select('label', 'prediction').where((f.col('label') == 1) & (f.col('prediction') == 0)).count()\n",
    "print(tp, tn, fp, fn)"
   ]
  },
  {
   "cell_type": "code",
   "execution_count": 31,
   "id": "ab7917fd",
   "metadata": {},
   "outputs": [],
   "source": [
    "# Criando uma def para exibição\n",
    "def calcula_mostra_matriz_confusao(df_transform_modelo, normalize=False, percentage=True):\n",
    "  tp = df_transform_modelo.select('label', 'prediction').where((f.col('label') == 1) & (f.col('prediction') == 1)).count()\n",
    "  tn = df_transform_modelo.select('label', 'prediction').where((f.col('label') == 0) & (f.col('prediction') == 0)).count()\n",
    "  fp = df_transform_modelo.select('label', 'prediction').where((f.col('label') == 0) & (f.col('prediction') == 1)).count()\n",
    "  fn = df_transform_modelo.select('label', 'prediction').where((f.col('label') == 1) & (f.col('prediction') == 0)).count()\n",
    "\n",
    "  valorP = 1\n",
    "  valorN = 1\n",
    "\n",
    "  if normalize:\n",
    "    valorP = tp + fn\n",
    "    valorN = fp + tn\n",
    "\n",
    "  if percentage and normalize:\n",
    "    valorP = valorP / 100\n",
    "    valorN = valorN / 100\n",
    "\n",
    "  print(' '*20, 'Previsto')\n",
    "  print(' '*15, 'Churn', ' '*5 ,'Não-Churn')\n",
    "  print(' '*4, 'Churn', ' '*6, int(tp/valorP), ' '*7, int(fn/valorP))\n",
    "  print('Real')\n",
    "  print(' '*4, 'Não-Churn', ' '*2, int(fp/valorN), ' '*7, int(tn/valorN))"
   ]
  },
  {
   "cell_type": "code",
   "execution_count": 32,
   "id": "1163b9b9",
   "metadata": {},
   "outputs": [
    {
     "name": "stdout",
     "output_type": "stream",
     "text": [
      "                     Previsto\n",
      "                Churn       Não-Churn\n",
      "     Churn        1256         307\n",
      "Real\n",
      "     Não-Churn    400         1179\n"
     ]
    }
   ],
   "source": [
    "calcula_mostra_matriz_confusao(previsoes_lr_teste)"
   ]
  },
  {
   "cell_type": "markdown",
   "id": "ba6f2e67",
   "metadata": {},
   "source": [
    "##### Conclusão: Vimos que os valores não foram como esperamos já que esse modelo mostrou valor Não-Churn para valores que deveriam ser e mostrou Churn para valores que não deveriam ser, com isso podemos ver se outro modelo tem acertividade maior"
   ]
  },
  {
   "cell_type": "markdown",
   "id": "5de298f9",
   "metadata": {},
   "source": [
    "# Árvores de Decisão"
   ]
  },
  {
   "cell_type": "code",
   "execution_count": 33,
   "id": "50027fd7",
   "metadata": {},
   "outputs": [],
   "source": [
    "from pyspark.ml.classification import DecisionTreeClassifier"
   ]
  },
  {
   "cell_type": "code",
   "execution_count": 34,
   "id": "46af7b88",
   "metadata": {},
   "outputs": [],
   "source": [
    "dtc = DecisionTreeClassifier(seed=v_seed)"
   ]
  },
  {
   "cell_type": "code",
   "execution_count": 35,
   "id": "36f4231b",
   "metadata": {},
   "outputs": [],
   "source": [
    "modelo_dtc = dtc.fit(treino)"
   ]
  },
  {
   "cell_type": "code",
   "execution_count": 36,
   "id": "12fdee56",
   "metadata": {},
   "outputs": [],
   "source": [
    "previsoes_dtc_treino = modelo_dtc.transform(treino)"
   ]
  },
  {
   "cell_type": "code",
   "execution_count": 37,
   "id": "8bbdd442",
   "metadata": {},
   "outputs": [
    {
     "name": "stdout",
     "output_type": "stream",
     "text": [
      "+--------------------+-----+--------------+--------------------+----------+\n",
      "|            features|label| rawPrediction|         probability|prediction|\n",
      "+--------------------+-----+--------------+--------------------+----------+\n",
      "|(24,[0,1,2,3,4,5,...|    0|[2056.0,334.0]|[0.86025104602510...|       0.0|\n",
      "|(24,[0,1,2,3,4,5,...|    0|[2056.0,334.0]|[0.86025104602510...|       0.0|\n",
      "|(24,[0,1,2,3,4,5,...|    0|    [22.0,3.0]|         [0.88,0.12]|       0.0|\n",
      "|(24,[0,1,2,3,4,5,...|    0|    [22.0,3.0]|         [0.88,0.12]|       0.0|\n",
      "|(24,[0,1,2,3,4,5,...|    0|    [22.0,3.0]|         [0.88,0.12]|       0.0|\n",
      "|(24,[0,1,2,3,4,5,...|    1|[331.0,1951.0]|[0.14504820333041...|       1.0|\n",
      "|(24,[0,1,2,3,4,5,...|    0| [239.0,205.0]|[0.53828828828828...|       0.0|\n",
      "|(24,[0,1,2,3,4,5,...|    1|[331.0,1951.0]|[0.14504820333041...|       1.0|\n",
      "|(24,[0,1,2,3,4,5,...|    0|[331.0,1951.0]|[0.14504820333041...|       1.0|\n",
      "|(24,[0,1,2,3,4,5,...|    0|[331.0,1951.0]|[0.14504820333041...|       1.0|\n",
      "|(24,[0,1,2,3,4,5,...|    0|[331.0,1951.0]|[0.14504820333041...|       1.0|\n",
      "|(24,[0,1,2,3,4,5,...|    0|[2056.0,334.0]|[0.86025104602510...|       0.0|\n",
      "|(24,[0,1,2,3,4,5,...|    0|[331.0,1951.0]|[0.14504820333041...|       1.0|\n",
      "|(24,[0,1,2,3,4,5,...|    0|[2056.0,334.0]|[0.86025104602510...|       0.0|\n",
      "|(24,[0,1,2,3,4,5,...|    0| [239.0,205.0]|[0.53828828828828...|       0.0|\n",
      "|(24,[0,1,2,3,4,5,...|    1| [239.0,205.0]|[0.53828828828828...|       0.0|\n",
      "|(24,[0,1,2,3,4,5,...|    0|[2056.0,334.0]|[0.86025104602510...|       0.0|\n",
      "|(24,[0,1,2,3,4,5,...|    0|  [51.0,141.0]| [0.265625,0.734375]|       1.0|\n",
      "|(24,[0,1,2,3,4,5,...|    0|[2056.0,334.0]|[0.86025104602510...|       0.0|\n",
      "|(24,[0,1,2,3,4,5,...|    0|[2056.0,334.0]|[0.86025104602510...|       0.0|\n",
      "+--------------------+-----+--------------+--------------------+----------+\n",
      "only showing top 20 rows\n",
      "\n"
     ]
    }
   ],
   "source": [
    "previsoes_dtc_treino.show()"
   ]
  },
  {
   "cell_type": "markdown",
   "id": "64a5edf3",
   "metadata": {},
   "source": [
    "# Métricas Arvore de Decisão"
   ]
  },
  {
   "cell_type": "code",
   "execution_count": 38,
   "id": "c93b0e8c",
   "metadata": {},
   "outputs": [],
   "source": [
    "from pyspark.ml.evaluation import MulticlassClassificationEvaluator"
   ]
  },
  {
   "cell_type": "code",
   "execution_count": 39,
   "id": "1705de4f",
   "metadata": {},
   "outputs": [],
   "source": [
    "evaluator = MulticlassClassificationEvaluator()"
   ]
  },
  {
   "cell_type": "code",
   "execution_count": 40,
   "id": "7ae6267b",
   "metadata": {},
   "outputs": [
    {
     "data": {
      "text/plain": [
       "0.7917013599777962"
      ]
     },
     "execution_count": 40,
     "metadata": {},
     "output_type": "execute_result"
    }
   ],
   "source": [
    "evaluator.evaluate(previsoes_dtc_treino, {evaluator.metricName: 'accuracy'})"
   ]
  },
  {
   "cell_type": "code",
   "execution_count": 41,
   "id": "edf01ff0",
   "metadata": {},
   "outputs": [
    {
     "name": "stdout",
     "output_type": "stream",
     "text": [
      "Acurácia: 0.791701\n",
      "Precisão: 0.805090\n",
      "Recall: 0.770978\n",
      "F1: 0.787664\n"
     ]
    }
   ],
   "source": [
    "print(\"Acurácia: %f\" % evaluator.evaluate(previsoes_dtc_treino, {evaluator.metricName: \"accuracy\"}))\n",
    "print(\"Precisão: %f\" % evaluator.evaluate(previsoes_dtc_treino, {evaluator.metricName: \"precisionByLabel\", evaluator.metricLabel: 1}))\n",
    "print(\"Recall: %f\" % evaluator.evaluate(previsoes_dtc_treino, {evaluator.metricName: \"recallByLabel\", evaluator.metricLabel: 1}))\n",
    "print(\"F1: %f\" % evaluator.evaluate(previsoes_dtc_treino, {evaluator.metricName: \"fMeasureByLabel\", evaluator.metricLabel: 1}))"
   ]
  },
  {
   "cell_type": "code",
   "execution_count": 42,
   "id": "a93f7fa8",
   "metadata": {},
   "outputs": [],
   "source": [
    "previsoes_dtc_teste = modelo_dtc.transform(teste)"
   ]
  },
  {
   "cell_type": "code",
   "execution_count": 43,
   "id": "3e6bc20b",
   "metadata": {},
   "outputs": [
    {
     "name": "stdout",
     "output_type": "stream",
     "text": [
      "+--------------------+-----+--------------+--------------------+----------+\n",
      "|            features|label| rawPrediction|         probability|prediction|\n",
      "+--------------------+-----+--------------+--------------------+----------+\n",
      "|(24,[0,1,2,3,4,5,...|    0|[2056.0,334.0]|[0.86025104602510...|       0.0|\n",
      "|(24,[0,1,2,3,4,5,...|    0|  [62.0,128.0]|[0.32631578947368...|       1.0|\n",
      "|(24,[0,1,2,3,4,5,...|    1| [239.0,205.0]|[0.53828828828828...|       0.0|\n",
      "|(24,[0,1,2,3,4,5,...|    1| [239.0,205.0]|[0.53828828828828...|       0.0|\n",
      "|(24,[0,1,2,3,4,5,...|    0| [239.0,205.0]|[0.53828828828828...|       0.0|\n",
      "|(24,[0,1,2,3,4,5,...|    0|  [51.0,141.0]| [0.265625,0.734375]|       1.0|\n",
      "|(24,[0,1,2,3,4,5,...|    0|[331.0,1951.0]|[0.14504820333041...|       1.0|\n",
      "|(24,[0,1,2,3,4,5,...|    0| [239.0,205.0]|[0.53828828828828...|       0.0|\n",
      "|(24,[0,1,2,3,4,5,...|    0|  [63.0,118.0]|[0.34806629834254...|       1.0|\n",
      "|(24,[0,1,2,3,4,5,...|    0|[2056.0,334.0]|[0.86025104602510...|       0.0|\n",
      "|(24,[0,1,2,3,4,5,...|    1|  [63.0,118.0]|[0.34806629834254...|       1.0|\n",
      "|(24,[0,1,2,3,4,5,...|    1|[331.0,1951.0]|[0.14504820333041...|       1.0|\n",
      "|(24,[0,1,2,3,4,5,...|    0|[2056.0,334.0]|[0.86025104602510...|       0.0|\n",
      "|(24,[0,1,2,3,4,8,...|    0| [445.0,181.0]|[0.71086261980830...|       0.0|\n",
      "|(24,[0,1,2,3,4,8,...|    0|[2056.0,334.0]|[0.86025104602510...|       0.0|\n",
      "|(24,[0,1,2,3,4,8,...|    0|[2056.0,334.0]|[0.86025104602510...|       0.0|\n",
      "|(24,[0,1,2,3,5,6,...|    0|[2056.0,334.0]|[0.86025104602510...|       0.0|\n",
      "|(24,[0,1,2,3,5,6,...|    0| [239.0,205.0]|[0.53828828828828...|       0.0|\n",
      "|(24,[0,1,2,3,5,6,...|    0|[2056.0,334.0]|[0.86025104602510...|       0.0|\n",
      "|(24,[0,1,2,3,5,6,...|    0|[2056.0,334.0]|[0.86025104602510...|       0.0|\n",
      "+--------------------+-----+--------------+--------------------+----------+\n",
      "only showing top 20 rows\n",
      "\n"
     ]
    }
   ],
   "source": [
    "previsoes_dtc_teste.show()"
   ]
  },
  {
   "cell_type": "code",
   "execution_count": 44,
   "id": "bf4de79e",
   "metadata": {},
   "outputs": [
    {
     "data": {
      "text/plain": [
       "0.7714831317632082"
      ]
     },
     "execution_count": 44,
     "metadata": {},
     "output_type": "execute_result"
    }
   ],
   "source": [
    "evaluator.evaluate(previsoes_dtc_teste, {evaluator.metricName: 'accuracy'})"
   ]
  },
  {
   "cell_type": "code",
   "execution_count": 45,
   "id": "9f2fe729",
   "metadata": {},
   "outputs": [
    {
     "name": "stdout",
     "output_type": "stream",
     "text": [
      "Decision Tree Classifier\n",
      "========================================\n",
      "Dados de Treino\n",
      "========================================\n",
      "Matriz de Confusão\n",
      "----------------------------------------\n",
      "                     Previsto\n",
      "                Churn       Não-Churn\n",
      "     Churn        2784         827\n",
      "Real\n",
      "     Não-Churn    674         2921\n",
      "----------------------------------------\n",
      "Métricas\n",
      "----------------------------------------\n",
      "Acurácia: 0.791701\n",
      "Precisão: 0.805090\n",
      "Recall: 0.770978\n",
      "F1: 0.787664\n",
      "\n",
      "========================================\n",
      "Dados de Teste\n",
      "========================================\n",
      "Matriz de Confusão\n",
      "----------------------------------------\n",
      "                     Previsto\n",
      "                Churn       Não-Churn\n",
      "     Churn        1181         382\n",
      "Real\n",
      "     Não-Churn    336         1243\n",
      "----------------------------------------\n",
      "Métricas\n",
      "----------------------------------------\n",
      "Acurácia: 0.771483\n",
      "Precisão: 0.778510\n",
      "Recall: 0.755598\n",
      "F1: 0.766883\n"
     ]
    }
   ],
   "source": [
    "print('Decision Tree Classifier')\n",
    "print(\"=\"*40)\n",
    "print(\"Dados de Treino\")\n",
    "print(\"=\"*40)\n",
    "print(\"Matriz de Confusão\")\n",
    "print(\"-\"*40)\n",
    "calcula_mostra_matriz_confusao(previsoes_dtc_treino, normalize=False)\n",
    "print(\"-\"*40)\n",
    "print(\"Métricas\")\n",
    "print(\"-\"*40)\n",
    "print(\"Acurácia: %f\" % evaluator.evaluate(previsoes_dtc_treino, {evaluator.metricName: \"accuracy\"}))\n",
    "print(\"Precisão: %f\" % evaluator.evaluate(previsoes_dtc_treino, {evaluator.metricName: \"precisionByLabel\", evaluator.metricLabel: 1}))\n",
    "print(\"Recall: %f\" % evaluator.evaluate(previsoes_dtc_treino, {evaluator.metricName: \"recallByLabel\", evaluator.metricLabel: 1}))\n",
    "print(\"F1: %f\" % evaluator.evaluate(previsoes_dtc_treino, {evaluator.metricName: \"fMeasureByLabel\", evaluator.metricLabel: 1}))\n",
    "print(\"\")\n",
    "print(\"=\"*40)\n",
    "print(\"Dados de Teste\")\n",
    "print(\"=\"*40)\n",
    "print(\"Matriz de Confusão\")\n",
    "print(\"-\"*40)\n",
    "calcula_mostra_matriz_confusao(previsoes_dtc_teste, normalize=False)\n",
    "print(\"-\"*40)\n",
    "print(\"Métricas\")\n",
    "print(\"-\"*40)\n",
    "print(\"Acurácia: %f\" % evaluator.evaluate(previsoes_dtc_teste, {evaluator.metricName: \"accuracy\"}))\n",
    "print(\"Precisão: %f\" % evaluator.evaluate(previsoes_dtc_teste, {evaluator.metricName: \"precisionByLabel\", evaluator.metricLabel: 1}))\n",
    "print(\"Recall: %f\" % evaluator.evaluate(previsoes_dtc_teste, {evaluator.metricName: \"recallByLabel\", evaluator.metricLabel: 1}))\n",
    "print(\"F1: %f\" % evaluator.evaluate(previsoes_dtc_teste, {evaluator.metricName: \"fMeasureByLabel\", evaluator.metricLabel: 1}))"
   ]
  },
  {
   "cell_type": "markdown",
   "id": "c40b14ea",
   "metadata": {},
   "source": [
    "# Random Forest"
   ]
  },
  {
   "cell_type": "code",
   "execution_count": 46,
   "id": "a070db84",
   "metadata": {},
   "outputs": [],
   "source": [
    "from pyspark.ml.classification import RandomForestClassifier"
   ]
  },
  {
   "cell_type": "code",
   "execution_count": 47,
   "id": "d61608ca",
   "metadata": {},
   "outputs": [],
   "source": [
    "rfc = RandomForestClassifier(seed=v_seed)"
   ]
  },
  {
   "cell_type": "code",
   "execution_count": 48,
   "id": "2fd2e1c9",
   "metadata": {},
   "outputs": [],
   "source": [
    "modelo_rfc = rfc.fit(treino)"
   ]
  },
  {
   "cell_type": "code",
   "execution_count": 49,
   "id": "eaaffa12",
   "metadata": {},
   "outputs": [],
   "source": [
    "previsoes_rfc_treino = modelo_rfc.transform(treino)"
   ]
  },
  {
   "cell_type": "code",
   "execution_count": 50,
   "id": "7f4bfbec",
   "metadata": {},
   "outputs": [
    {
     "name": "stdout",
     "output_type": "stream",
     "text": [
      "+--------------------+-----+--------------------+--------------------+----------+\n",
      "|            features|label|       rawPrediction|         probability|prediction|\n",
      "+--------------------+-----+--------------------+--------------------+----------+\n",
      "|(24,[0,1,2,3,4,5,...|    0|[15.0052773466704...|[0.75026386733352...|       0.0|\n",
      "|(24,[0,1,2,3,4,5,...|    0|[16.9295040273249...|[0.84647520136624...|       0.0|\n",
      "|(24,[0,1,2,3,4,5,...|    0|[9.13052909106814...|[0.45652645455340...|       1.0|\n",
      "|(24,[0,1,2,3,4,5,...|    0|[9.13052909106814...|[0.45652645455340...|       1.0|\n",
      "|(24,[0,1,2,3,4,5,...|    0|[8.59288938528764...|[0.42964446926438...|       1.0|\n",
      "|(24,[0,1,2,3,4,5,...|    1|[5.59647122885698...|[0.27982356144284...|       1.0|\n",
      "|(24,[0,1,2,3,4,5,...|    0|[9.33276328267787...|[0.46663816413389...|       1.0|\n",
      "|(24,[0,1,2,3,4,5,...|    1|[5.21616013157118...|[0.26080800657855...|       1.0|\n",
      "|(24,[0,1,2,3,4,5,...|    0|[5.45640255581361...|[0.27282012779068...|       1.0|\n",
      "|(24,[0,1,2,3,4,5,...|    0|[4.60442649894724...|[0.23022132494736...|       1.0|\n",
      "|(24,[0,1,2,3,4,5,...|    0|[5.67535692640751...|[0.28376784632037...|       1.0|\n",
      "|(24,[0,1,2,3,4,5,...|    0|[12.0200554644482...|[0.60100277322241...|       0.0|\n",
      "|(24,[0,1,2,3,4,5,...|    0|[4.78964359060310...|[0.23948217953015...|       1.0|\n",
      "|(24,[0,1,2,3,4,5,...|    0|[16.0034864403362...|[0.80017432201681...|       0.0|\n",
      "|(24,[0,1,2,3,4,5,...|    0|[9.33276328267787...|[0.46663816413389...|       1.0|\n",
      "|(24,[0,1,2,3,4,5,...|    1|[7.72923092350890...|[0.38646154617544...|       1.0|\n",
      "|(24,[0,1,2,3,4,5,...|    0|[15.9609332488468...|[0.79804666244234...|       0.0|\n",
      "|(24,[0,1,2,3,4,5,...|    0|[7.08160776437640...|[0.35408038821882...|       1.0|\n",
      "|(24,[0,1,2,3,4,5,...|    0|[18.2497256374866...|[0.91248628187433...|       0.0|\n",
      "|(24,[0,1,2,3,4,5,...|    0|[14.4759069267546...|[0.72379534633773...|       0.0|\n",
      "+--------------------+-----+--------------------+--------------------+----------+\n",
      "only showing top 20 rows\n",
      "\n"
     ]
    }
   ],
   "source": [
    "previsoes_rfc_treino.show()"
   ]
  },
  {
   "cell_type": "markdown",
   "id": "e261a3aa",
   "metadata": {},
   "source": [
    "# Métricas Random Forest"
   ]
  },
  {
   "cell_type": "code",
   "execution_count": 51,
   "id": "0e392670",
   "metadata": {},
   "outputs": [],
   "source": [
    "previsoes_rfc_teste = modelo_rfc.transform(teste)"
   ]
  },
  {
   "cell_type": "code",
   "execution_count": 52,
   "id": "3c697549",
   "metadata": {},
   "outputs": [
    {
     "name": "stdout",
     "output_type": "stream",
     "text": [
      "+--------------------+-----+--------------------+--------------------+----------+\n",
      "|            features|label|       rawPrediction|         probability|prediction|\n",
      "+--------------------+-----+--------------------+--------------------+----------+\n",
      "|(24,[0,1,2,3,4,5,...|    0|[3.02174179751551...|[0.95354674000282...|       0.0|\n",
      "|(24,[0,1,2,3,4,5,...|    0|[-0.0922192966076...|[0.47696150091605...|       1.0|\n",
      "|(24,[0,1,2,3,4,5,...|    1|[0.18744121711361...|[0.54672358463156...|       0.0|\n",
      "|(24,[0,1,2,3,4,5,...|    1|[0.91716501260103...|[0.71446410549163...|       0.0|\n",
      "|(24,[0,1,2,3,4,5,...|    0|[-0.1495904711610...|[0.46267196467801...|       1.0|\n",
      "|(24,[0,1,2,3,4,5,...|    0|[-0.1680594619286...|[0.45808374494006...|       1.0|\n",
      "|(24,[0,1,2,3,4,5,...|    0|[-1.4170949608173...|[0.19511740608882...|       1.0|\n",
      "|(24,[0,1,2,3,4,5,...|    0|[0.14194260698794...|[0.53542619200881...|       0.0|\n",
      "|(24,[0,1,2,3,4,5,...|    0|[0.67046644011599...|[0.66160759507905...|       0.0|\n",
      "|(24,[0,1,2,3,4,5,...|    0|[1.46841036244999...|[0.81281564870727...|       0.0|\n",
      "|(24,[0,1,2,3,4,5,...|    1|[-0.2187083605333...|[0.44553982138394...|       1.0|\n",
      "|(24,[0,1,2,3,4,5,...|    1|[-1.0342537570067...|[0.26226025614667...|       1.0|\n",
      "|(24,[0,1,2,3,4,5,...|    0|[5.50017227754075...|[0.99593056056380...|       0.0|\n",
      "|(24,[0,1,2,3,4,8,...|    0|[0.78512618330368...|[0.68678387079939...|       0.0|\n",
      "|(24,[0,1,2,3,4,8,...|    0|[0.84647423373263...|[0.69982700991647...|       0.0|\n",
      "|(24,[0,1,2,3,4,8,...|    0|[2.71891428132878...|[0.93813354968549...|       0.0|\n",
      "|(24,[0,1,2,3,5,6,...|    0|[4.47635640497720...|[0.98875314765919...|       0.0|\n",
      "|(24,[0,1,2,3,5,6,...|    0|[1.61650336401316...|[0.83431233628064...|       0.0|\n",
      "|(24,[0,1,2,3,5,6,...|    0|[3.44539231448552...|[0.96909343212403...|       0.0|\n",
      "|(24,[0,1,2,3,5,6,...|    0|[3.42849251731228...|[0.96858322780664...|       0.0|\n",
      "+--------------------+-----+--------------------+--------------------+----------+\n",
      "only showing top 20 rows\n",
      "\n"
     ]
    }
   ],
   "source": [
    "previsoes_lr_teste.show()"
   ]
  },
  {
   "cell_type": "code",
   "execution_count": 53,
   "id": "efb4c7be",
   "metadata": {},
   "outputs": [
    {
     "name": "stdout",
     "output_type": "stream",
     "text": [
      "Random Forest Classifier\n",
      "========================================\n",
      "Dados de Treino\n",
      "========================================\n",
      "Matriz de Confusão\n",
      "----------------------------------------\n",
      "                     Previsto\n",
      "                Churn       Não-Churn\n",
      "     Churn        2950         661\n",
      "Real\n",
      "     Não-Churn    884         2711\n",
      "----------------------------------------\n",
      "Métricas\n",
      "----------------------------------------\n",
      "Acurácia: 0.785595\n",
      "Precisão: 0.769431\n",
      "Recall: 0.816948\n",
      "F1: 0.792478\n",
      "\n",
      "========================================\n",
      "Dados de Teste\n",
      "========================================\n",
      "Matriz de Confusão\n",
      "----------------------------------------\n",
      "                     Previsto\n",
      "                Churn       Não-Churn\n",
      "     Churn        1257         306\n",
      "Real\n",
      "     Não-Churn    416         1163\n",
      "----------------------------------------\n",
      "Métricas\n",
      "----------------------------------------\n",
      "Acurácia: 0.770210\n",
      "Precisão: 0.751345\n",
      "Recall: 0.804223\n",
      "F1: 0.776885\n"
     ]
    }
   ],
   "source": [
    "print('Random Forest Classifier')\n",
    "print(\"=\"*40)\n",
    "print(\"Dados de Treino\")\n",
    "print(\"=\"*40)\n",
    "print(\"Matriz de Confusão\")\n",
    "print(\"-\"*40)\n",
    "calcula_mostra_matriz_confusao(previsoes_rfc_treino, normalize=False)\n",
    "print(\"-\"*40)\n",
    "print(\"Métricas\")\n",
    "print(\"-\"*40)\n",
    "print(\"Acurácia: %f\" % evaluator.evaluate(previsoes_rfc_treino, {evaluator.metricName: \"accuracy\"}))\n",
    "print(\"Precisão: %f\" % evaluator.evaluate(previsoes_rfc_treino, {evaluator.metricName: \"precisionByLabel\", evaluator.metricLabel: 1}))\n",
    "print(\"Recall: %f\" % evaluator.evaluate(previsoes_rfc_treino, {evaluator.metricName: \"recallByLabel\", evaluator.metricLabel: 1}))\n",
    "print(\"F1: %f\" % evaluator.evaluate(previsoes_rfc_treino, {evaluator.metricName: \"fMeasureByLabel\", evaluator.metricLabel: 1}))\n",
    "print(\"\")\n",
    "print(\"=\"*40)\n",
    "print(\"Dados de Teste\")\n",
    "print(\"=\"*40)\n",
    "print(\"Matriz de Confusão\")\n",
    "print(\"-\"*40)\n",
    "calcula_mostra_matriz_confusao(previsoes_rfc_teste, normalize=False)\n",
    "print(\"-\"*40)\n",
    "print(\"Métricas\")\n",
    "print(\"-\"*40)\n",
    "print(\"Acurácia: %f\" % evaluator.evaluate(previsoes_rfc_teste, {evaluator.metricName: \"accuracy\"}))\n",
    "print(\"Precisão: %f\" % evaluator.evaluate(previsoes_rfc_teste, {evaluator.metricName: \"precisionByLabel\", evaluator.metricLabel: 1}))\n",
    "print(\"Recall: %f\" % evaluator.evaluate(previsoes_rfc_teste, {evaluator.metricName: \"recallByLabel\", evaluator.metricLabel: 1}))\n",
    "print(\"F1: %f\" % evaluator.evaluate(previsoes_rfc_teste, {evaluator.metricName: \"fMeasureByLabel\", evaluator.metricLabel: 1}))"
   ]
  },
  {
   "cell_type": "code",
   "execution_count": 54,
   "id": "e31b5329",
   "metadata": {},
   "outputs": [
    {
     "name": "stdout",
     "output_type": "stream",
     "text": [
      "                     Previsto\n",
      "                Churn       Não-Churn\n",
      "     Churn        1181         382\n",
      "Real\n",
      "     Não-Churn    336         1243\n"
     ]
    }
   ],
   "source": [
    "calcula_mostra_matriz_confusao(previsoes_dtc_teste)"
   ]
  },
  {
   "cell_type": "code",
   "execution_count": 55,
   "id": "45afdf6f",
   "metadata": {},
   "outputs": [
    {
     "name": "stdout",
     "output_type": "stream",
     "text": [
      "                     Previsto\n",
      "                Churn       Não-Churn\n",
      "     Churn        1256         307\n",
      "Real\n",
      "     Não-Churn    400         1179\n"
     ]
    }
   ],
   "source": [
    "calcula_mostra_matriz_confusao(previsoes_lr_teste)"
   ]
  },
  {
   "cell_type": "code",
   "execution_count": 56,
   "id": "ce687a7b",
   "metadata": {},
   "outputs": [
    {
     "name": "stdout",
     "output_type": "stream",
     "text": [
      "                     Previsto\n",
      "                Churn       Não-Churn\n",
      "     Churn        1257         306\n",
      "Real\n",
      "     Não-Churn    416         1163\n"
     ]
    }
   ],
   "source": [
    "calcula_mostra_matriz_confusao(previsoes_rfc_teste)"
   ]
  },
  {
   "cell_type": "code",
   "execution_count": 74,
   "id": "b31b51d0",
   "metadata": {},
   "outputs": [],
   "source": [
    "def comparacao_modelo():\n",
    "    print('Previsão Teste Regressão Logística: ')\n",
    "    print(\"=\"*50)\n",
    "    print(\"=\"*50)\n",
    "    calcula_mostra_matriz_confusao(previsoes_lr_teste)\n",
    "    print()\n",
    "    print(\"Acurácia: %f\" % evaluator.evaluate(previsoes_lr_teste, {evaluator.metricName: \"accuracy\"}))\n",
    "    print(\"Precisão: %f\" % evaluator.evaluate(previsoes_lr_teste, {evaluator.metricName: \"precisionByLabel\", evaluator.metricLabel: 1}))\n",
    "    print(\"Recall: %f\" % evaluator.evaluate(previsoes_lr_teste, {evaluator.metricName: \"recallByLabel\", evaluator.metricLabel: 1}))\n",
    "    print(\"F1: %f\" % evaluator.evaluate(previsoes_lr_teste, {evaluator.metricName: \"fMeasureByLabel\", evaluator.metricLabel: 1}))\n",
    "    print(\"=\"*50)\n",
    "    print(\"=\"*50)\n",
    "    print('Previsão Teste Decision Tree: ')\n",
    "    calcula_mostra_matriz_confusao(previsoes_dtc_teste)\n",
    "    print()\n",
    "    print(\"Acurácia: %f\" % evaluator.evaluate(previsoes_dtc_teste, {evaluator.metricName: \"accuracy\"}))\n",
    "    print(\"Precisão: %f\" % evaluator.evaluate(previsoes_dtc_teste, {evaluator.metricName: \"precisionByLabel\", evaluator.metricLabel: 1}))\n",
    "    print(\"Recall: %f\" % evaluator.evaluate(previsoes_dtc_teste, {evaluator.metricName: \"recallByLabel\", evaluator.metricLabel: 1}))\n",
    "    print(\"F1: %f\" % evaluator.evaluate(previsoes_dtc_teste, {evaluator.metricName: \"fMeasureByLabel\", evaluator.metricLabel: 1}))\n",
    "    print(\"=\"*50)   \n",
    "    print(\"=\"*50)\n",
    "    print('Previsão Teste Random Forest: ')\n",
    "    calcula_mostra_matriz_confusao(previsoes_rfc_teste)\n",
    "    print()\n",
    "    print(\"Acurácia: %f\" % evaluator.evaluate(previsoes_rfc_teste, {evaluator.metricName: \"accuracy\"}))\n",
    "    print(\"Precisão: %f\" % evaluator.evaluate(previsoes_rfc_teste, {evaluator.metricName: \"precisionByLabel\", evaluator.metricLabel: 1}))\n",
    "    print(\"Recall: %f\" % evaluator.evaluate(previsoes_rfc_teste, {evaluator.metricName: \"recallByLabel\", evaluator.metricLabel: 1}))\n",
    "    print(\"F1: %f\" % evaluator.evaluate(previsoes_rfc_teste, {evaluator.metricName: \"fMeasureByLabel\", evaluator.metricLabel: 1}))\n",
    "    print(\"=\"*50)\n",
    "    print(\"=\"*50)"
   ]
  },
  {
   "cell_type": "code",
   "execution_count": 75,
   "id": "7fbdf3cd",
   "metadata": {},
   "outputs": [
    {
     "name": "stdout",
     "output_type": "stream",
     "text": [
      "Previsão Teste Regressão Logística: \n",
      "==================================================\n",
      "==================================================\n",
      "                     Previsto\n",
      "                Churn       Não-Churn\n",
      "     Churn        1256         307\n",
      "Real\n",
      "     Não-Churn    400         1179\n",
      "\n",
      "Acurácia: 0.774984\n",
      "Precisão: 0.758454\n",
      "Recall: 0.803583\n",
      "F1: 0.780367\n",
      "==================================================\n",
      "==================================================\n",
      "Previsão Teste Decision Tree: \n",
      "                     Previsto\n",
      "                Churn       Não-Churn\n",
      "     Churn        1181         382\n",
      "Real\n",
      "     Não-Churn    336         1243\n",
      "\n",
      "Acurácia: 0.771483\n",
      "Precisão: 0.778510\n",
      "Recall: 0.755598\n",
      "F1: 0.766883\n",
      "==================================================\n",
      "==================================================\n",
      "Previsão Teste Random Forest: \n",
      "                     Previsto\n",
      "                Churn       Não-Churn\n",
      "     Churn        1257         306\n",
      "Real\n",
      "     Não-Churn    416         1163\n",
      "\n",
      "Acurácia: 0.770210\n",
      "Precisão: 0.751345\n",
      "Recall: 0.804223\n",
      "F1: 0.776885\n",
      "==================================================\n",
      "==================================================\n"
     ]
    }
   ],
   "source": [
    "comparacao_modelo()"
   ]
  },
  {
   "cell_type": "markdown",
   "id": "7b0424d3",
   "metadata": {},
   "source": [
    "# Técnicas de Otimização"
   ]
  },
  {
   "cell_type": "markdown",
   "id": "1bb521ec",
   "metadata": {},
   "source": [
    "###### Até então, quando treinamos os nossos algoritmos, utilizamos os hiperparâmetros padrões, os quais podem não ser adequados para o problema que precisamos resolver (classificar se um cliente vai ou não cancelar um serviço) e para o nosso conjunto de dados. Cada tipo de dados irá funcionar com hiperparâmetros específicos e devemos investigar isso, em vez de utilizar somente o padrão. Pensando nisso, um dos hiperparâmetros que podemos explorar para essa situação é o maxDepth: ele fala a respeito da profundidade máxima que a árvore pode alcançar. Assim, podemos diminuir o efeito do algoritmo como especialista em dados de treino, criando uma solução mais geral.\n",
    "###### Cross-Validation: Existe uma técnica por meio da qual podemos variar os grupos de dados, os quais serão ajustados, e entender como o modelo performa na média. De maneira geral, vamos compreender como o algoritmo se comporta com os dados. Trata-se de uma etapa importante para diminuirmos o efeito da aleatoriedade ao selecionar um grupo de dados."
   ]
  },
  {
   "cell_type": "markdown",
   "id": "80d32533",
   "metadata": {},
   "source": [
    "# Arvore de Decisão - Tuning"
   ]
  },
  {
   "cell_type": "code",
   "execution_count": 76,
   "id": "c1b5dd81",
   "metadata": {},
   "outputs": [],
   "source": [
    "from pyspark.ml.tuning import CrossValidator\n",
    "from pyspark.ml.tuning import ParamGridBuilder"
   ]
  },
  {
   "cell_type": "code",
   "execution_count": 78,
   "id": "eb496af6",
   "metadata": {},
   "outputs": [],
   "source": [
    "dtc = DecisionTreeClassifier(seed = v_seed)"
   ]
  },
  {
   "cell_type": "code",
   "execution_count": 80,
   "id": "3ac6566c",
   "metadata": {},
   "outputs": [],
   "source": [
    "grid = ParamGridBuilder()\\\n",
    "    .addGrid(dtc.maxDepth, [2, 5, 10])\\\n",
    "    .addGrid(dtc.maxBins, [10, 32, 45])\\\n",
    "    .build()"
   ]
  },
  {
   "cell_type": "code",
   "execution_count": 81,
   "id": "4a8a825e",
   "metadata": {},
   "outputs": [],
   "source": [
    "evaluator = MulticlassClassificationEvaluator()"
   ]
  },
  {
   "cell_type": "code",
   "execution_count": 82,
   "id": "29fcec4e",
   "metadata": {},
   "outputs": [],
   "source": [
    "dtc_cv = CrossValidator(\n",
    "    estimator=dtc,\n",
    "    estimatorParamMaps=grid,\n",
    "    evaluator=evaluator,\n",
    "    numFolds= 3,\n",
    "    seed = v_seed\n",
    ")"
   ]
  },
  {
   "cell_type": "code",
   "execution_count": 83,
   "id": "9ad974a8",
   "metadata": {},
   "outputs": [],
   "source": [
    "modelo_dtc_cv = dtc_cv.fit(treino)"
   ]
  },
  {
   "cell_type": "code",
   "execution_count": 85,
   "id": "d3ca247c",
   "metadata": {},
   "outputs": [],
   "source": [
    "previsoes_dtc_cv_teste = modelo_dtc_cv.transform(teste)"
   ]
  },
  {
   "cell_type": "code",
   "execution_count": 86,
   "id": "603c7f2e",
   "metadata": {},
   "outputs": [
    {
     "name": "stdout",
     "output_type": "stream",
     "text": [
      "Decision Tree Classifier - Tuning\n",
      "========================================\n",
      "Dados de Teste\n",
      "========================================\n",
      "Matriz de Confusão\n",
      "----------------------------------------\n",
      "                     Previsto\n",
      "                Churn       Não-Churn\n",
      "     Churn        1327         236\n",
      "Real\n",
      "     Não-Churn    423         1156\n",
      "----------------------------------------\n",
      "Métricas\n",
      "----------------------------------------\n",
      "Acurácia: 0.790261\n",
      "Precisão: 0.758286\n",
      "Recall: 0.849008\n",
      "F1: 0.801087\n"
     ]
    }
   ],
   "source": [
    "print('Decision Tree Classifier - Tuning')\n",
    "print(\"=\"*40)\n",
    "print(\"Dados de Teste\")\n",
    "print(\"=\"*40)\n",
    "print(\"Matriz de Confusão\")\n",
    "print(\"-\"*40)\n",
    "calcula_mostra_matriz_confusao(previsoes_dtc_cv_teste, normalize=False)\n",
    "print(\"-\"*40)\n",
    "print(\"Métricas\")\n",
    "print(\"-\"*40)\n",
    "print(\"Acurácia: %f\" % evaluator.evaluate(previsoes_dtc_cv_teste, {evaluator.metricName: \"accuracy\"}))\n",
    "print(\"Precisão: %f\" % evaluator.evaluate(previsoes_dtc_cv_teste, {evaluator.metricName: \"precisionByLabel\", evaluator.metricLabel: 1}))\n",
    "print(\"Recall: %f\" % evaluator.evaluate(previsoes_dtc_cv_teste, {evaluator.metricName: \"recallByLabel\", evaluator.metricLabel: 1}))\n",
    "print(\"F1: %f\" % evaluator.evaluate(previsoes_dtc_cv_teste, {evaluator.metricName: \"fMeasureByLabel\", evaluator.metricLabel: 1}))"
   ]
  },
  {
   "cell_type": "markdown",
   "id": "ef56bed1",
   "metadata": {},
   "source": [
    "# Random Forest- Tuning"
   ]
  },
  {
   "cell_type": "code",
   "execution_count": 89,
   "id": "8a3b131c",
   "metadata": {},
   "outputs": [],
   "source": [
    "rfc = RandomForestClassifier(seed = v_seed)"
   ]
  },
  {
   "cell_type": "code",
   "execution_count": 90,
   "id": "47f2416c",
   "metadata": {},
   "outputs": [],
   "source": [
    "grid = ParamGridBuilder()\\\n",
    "    .addGrid(rfc.maxDepth, [2, 5, 10])\\\n",
    "    .addGrid(rfc.maxBins, [10, 32, 45])\\\n",
    "    .addGrid(rfc.numTrees, [10, 20, 50])\\\n",
    "    .build()"
   ]
  },
  {
   "cell_type": "code",
   "execution_count": 91,
   "id": "8bb49980",
   "metadata": {},
   "outputs": [],
   "source": [
    "evaluator = MulticlassClassificationEvaluator()"
   ]
  },
  {
   "cell_type": "code",
   "execution_count": 92,
   "id": "fa6e6373",
   "metadata": {},
   "outputs": [],
   "source": [
    "rfc_cv = CrossValidator(\n",
    "    estimator=rfc,\n",
    "    estimatorParamMaps=grid,\n",
    "    evaluator= evaluator,\n",
    "    numFolds= 3,\n",
    "    seed= v_seed)"
   ]
  },
  {
   "cell_type": "code",
   "execution_count": 93,
   "id": "aed75724",
   "metadata": {},
   "outputs": [],
   "source": [
    "modelo_rfc_cv = rfc_cv.fit(treino)"
   ]
  },
  {
   "cell_type": "code",
   "execution_count": 94,
   "id": "08db057e",
   "metadata": {},
   "outputs": [],
   "source": [
    "previsoes_rfc_cv_teste = modelo_rfc_cv.transform(teste)"
   ]
  },
  {
   "cell_type": "code",
   "execution_count": 96,
   "id": "e5e104c0",
   "metadata": {},
   "outputs": [
    {
     "name": "stdout",
     "output_type": "stream",
     "text": [
      "+--------------------+-----+--------------------+--------------------+----------+\n",
      "|            features|label|       rawPrediction|         probability|prediction|\n",
      "+--------------------+-----+--------------------+--------------------+----------+\n",
      "|(24,[0,1,2,3,4,5,...|    0|[18.8458622358365...|[0.94229311179182...|       0.0|\n",
      "|(24,[0,1,2,3,4,5,...|    0|[7.00338773070618...|[0.35016938653530...|       1.0|\n",
      "|(24,[0,1,2,3,4,5,...|    1|[11.4626166118451...|[0.57313083059225...|       0.0|\n",
      "|(24,[0,1,2,3,4,5,...|    1|[10.1291848964521...|[0.50645924482260...|       0.0|\n",
      "|(24,[0,1,2,3,4,5,...|    0|[10.7004509316445...|[0.53502254658222...|       0.0|\n",
      "|(24,[0,1,2,3,4,5,...|    0|[7.14460132501597...|[0.35723006625079...|       1.0|\n",
      "|(24,[0,1,2,3,4,5,...|    0|[2.68605623364822...|[0.13430281168241...|       1.0|\n",
      "|(24,[0,1,2,3,4,5,...|    0|[9.48796840365584...|[0.47439842018279...|       1.0|\n",
      "|(24,[0,1,2,3,4,5,...|    0|[15.0032595338437...|[0.75016297669218...|       0.0|\n",
      "|(24,[0,1,2,3,4,5,...|    0|[18.3388415671842...|[0.91694207835921...|       0.0|\n",
      "|(24,[0,1,2,3,4,5,...|    1|[10.3196632691320...|[0.51598316345660...|       0.0|\n",
      "|(24,[0,1,2,3,4,5,...|    1|[2.23955214908720...|[0.11197760745436...|       1.0|\n",
      "|(24,[0,1,2,3,4,5,...|    0|[19.7966449130502...|[0.98983224565251...|       0.0|\n",
      "|(24,[0,1,2,3,4,8,...|    0|[15.5696780268279...|[0.7784839013414,...|       0.0|\n",
      "|(24,[0,1,2,3,4,8,...|    0|[16.2505262592320...|[0.81252631296160...|       0.0|\n",
      "|(24,[0,1,2,3,4,8,...|    0|[16.0070425886122...|[0.80035212943061...|       0.0|\n",
      "|(24,[0,1,2,3,5,6,...|    0|[18.5661257359063...|[0.92830628679531...|       0.0|\n",
      "|(24,[0,1,2,3,5,6,...|    0|[17.4646773076981...|[0.87323386538490...|       0.0|\n",
      "|(24,[0,1,2,3,5,6,...|    0|[17.9056251467510...|[0.89528125733755...|       0.0|\n",
      "|(24,[0,1,2,3,5,6,...|    0|[18.6687783588609...|[0.93343891794304...|       0.0|\n",
      "+--------------------+-----+--------------------+--------------------+----------+\n",
      "only showing top 20 rows\n",
      "\n"
     ]
    }
   ],
   "source": [
    "previsoes_rfc_cv_teste.show()"
   ]
  },
  {
   "cell_type": "code",
   "execution_count": 97,
   "id": "30c19455",
   "metadata": {},
   "outputs": [
    {
     "name": "stdout",
     "output_type": "stream",
     "text": [
      "Random Forest Classifier - Tuning\n",
      "========================================\n",
      "Dados de Teste\n",
      "========================================\n",
      "Matriz de Confusão\n",
      "----------------------------------------\n",
      "                     Previsto\n",
      "                Churn       Não-Churn\n",
      "     Churn        1322         241\n",
      "Real\n",
      "     Não-Churn    347         1232\n",
      "----------------------------------------\n",
      "Métricas\n",
      "----------------------------------------\n",
      "Acurácia: 0.812858\n",
      "Precisão: 0.792091\n",
      "Recall: 0.845809\n",
      "F1: 0.818069\n"
     ]
    }
   ],
   "source": [
    "print('Random Forest Classifier - Tuning')\n",
    "print(\"=\"*40)\n",
    "print(\"Dados de Teste\")\n",
    "print(\"=\"*40)\n",
    "print(\"Matriz de Confusão\")\n",
    "print(\"-\"*40)\n",
    "calcula_mostra_matriz_confusao(previsoes_rfc_cv_teste, normalize=False)\n",
    "print(\"-\"*40)\n",
    "print(\"Métricas\")\n",
    "print(\"-\"*40)\n",
    "print(\"Acurácia: %f\" % evaluator.evaluate(previsoes_rfc_cv_teste, {evaluator.metricName: \"accuracy\"}))\n",
    "print(\"Precisão: %f\" % evaluator.evaluate(previsoes_rfc_cv_teste, {evaluator.metricName: \"precisionByLabel\", evaluator.metricLabel: 1}))\n",
    "print(\"Recall: %f\" % evaluator.evaluate(previsoes_rfc_cv_teste, {evaluator.metricName: \"recallByLabel\", evaluator.metricLabel: 1}))\n",
    "print(\"F1: %f\" % evaluator.evaluate(previsoes_rfc_cv_teste, {evaluator.metricName: \"fMeasureByLabel\", evaluator.metricLabel: 1}))"
   ]
  },
  {
   "cell_type": "markdown",
   "id": "8e8097b8",
   "metadata": {},
   "source": [
    "# Modelo Final"
   ]
  },
  {
   "cell_type": "code",
   "execution_count": 98,
   "id": "3d7e58c1",
   "metadata": {},
   "outputs": [],
   "source": [
    "melhor_modelo_rfc_cv = modelo_rfc_cv.bestModel"
   ]
  },
  {
   "cell_type": "code",
   "execution_count": 99,
   "id": "989820bb",
   "metadata": {},
   "outputs": [
    {
     "name": "stdout",
     "output_type": "stream",
     "text": [
      "10\n",
      "45\n",
      "20\n"
     ]
    }
   ],
   "source": [
    "print(melhor_modelo_rfc_cv.getMaxDepth())\n",
    "print(melhor_modelo_rfc_cv.getMaxBins())\n",
    "print(melhor_modelo_rfc_cv.getNumTrees)"
   ]
  },
  {
   "cell_type": "code",
   "execution_count": 100,
   "id": "cd003271",
   "metadata": {},
   "outputs": [],
   "source": [
    "rfc_tunning = RandomForestClassifier(maxDepth= 10, maxBins=45, numTrees=10,seed = v_seed)"
   ]
  },
  {
   "cell_type": "code",
   "execution_count": 101,
   "id": "3fd313c5",
   "metadata": {},
   "outputs": [],
   "source": [
    "modelo_rfc_tunning = rfc_tunning.fit(dataset_preparado) "
   ]
  },
  {
   "cell_type": "code",
   "execution_count": 102,
   "id": "b886c8e9",
   "metadata": {},
   "outputs": [
    {
     "data": {
      "text/plain": [
       "['Mais65anos',\n",
       " 'MesesDeContrato',\n",
       " 'MesesCobrados',\n",
       " 'Conjuge',\n",
       " 'Dependentes',\n",
       " 'TelefoneFixo',\n",
       " 'MaisDeUmaLinhaTelefonica',\n",
       " 'SegurancaOnline',\n",
       " 'BackupOnline',\n",
       " 'SeguroDispositivo',\n",
       " 'SuporteTecnico',\n",
       " 'TVaCabo',\n",
       " 'StreamingFilmes',\n",
       " 'ContaCorreio',\n",
       " 'Internet_DSL',\n",
       " 'Internet_FibraOptica',\n",
       " 'Internet_Nao',\n",
       " 'TipoContrato_Mensalmente',\n",
       " 'TipoContrato_UmAno',\n",
       " 'TipoContrato_DoisAnos',\n",
       " 'MetodoPagamento_DebitoEmConta',\n",
       " 'MetodoPagamento_CartaoCredito',\n",
       " 'MetodoPagamento_BoletoEletronico',\n",
       " 'MetodoPagamento_Boleto']"
      ]
     },
     "execution_count": 102,
     "metadata": {},
     "output_type": "execute_result"
    }
   ],
   "source": [
    "X"
   ]
  },
  {
   "cell_type": "code",
   "execution_count": 103,
   "id": "71c7a3f4",
   "metadata": {},
   "outputs": [],
   "source": [
    "novo_cliente = [{\n",
    "    'Mais65anos': 0,\n",
    "    'MesesDeContrato': 1,\n",
    "    'MesesCobrados': 45.30540797610398,\n",
    "    'Conjuge': 0,\n",
    "    'Dependentes': 0,\n",
    "    'TelefoneFixo': 0,\n",
    "    'MaisDeUmaLinhaTelefonica': 0,\n",
    "    'SegurancaOnline': 0,\n",
    "    'BackupOnline': 0,\n",
    "    'SeguroDispositivo': 0,\n",
    "    'SuporteTecnico': 0,\n",
    "    'TVaCabo': 1,\n",
    "    'StreamingFilmes': 1,\n",
    "    'ContaCorreio': 1,\n",
    "    'Internet_DSL': 1,\n",
    "    'Internet_FibraOptica': 0,\n",
    "    'Internet_Nao': 0,\n",
    "    'TipoContrato_Mensalmente': 1,\n",
    "    'TipoContrato_UmAno': 0,\n",
    "    'TipoContrato_DoisAnos': 0,\n",
    "    'MetodoPagamento_DebitoEmConta': 0,\n",
    "    'MetodoPagamento_CartaoCredito': 0,\n",
    "    'MetodoPagamento_BoletoEletronico': 1,\n",
    "    'MetodoPagamento_Boleto': 0\n",
    "}]"
   ]
  },
  {
   "cell_type": "code",
   "execution_count": 109,
   "id": "e152495d",
   "metadata": {},
   "outputs": [
    {
     "ename": "TypeError",
     "evalue": "data is already a DataFrame",
     "output_type": "error",
     "traceback": [
      "\u001b[1;31m---------------------------------------------------------------------------\u001b[0m",
      "\u001b[1;31mTypeError\u001b[0m                                 Traceback (most recent call last)",
      "Cell \u001b[1;32mIn[109], line 1\u001b[0m\n\u001b[1;32m----> 1\u001b[0m novo_cliente \u001b[38;5;241m=\u001b[39m \u001b[43mspark\u001b[49m\u001b[38;5;241;43m.\u001b[39;49m\u001b[43mcreateDataFrame\u001b[49m\u001b[43m(\u001b[49m\u001b[43mnovo_cliente\u001b[49m\u001b[43m)\u001b[49m\n",
      "File \u001b[1;32mH:\\Spark\\spark-3.4.1-bin-hadoop3\\python\\pyspark\\sql\\session.py:1224\u001b[0m, in \u001b[0;36mSparkSession.createDataFrame\u001b[1;34m(self, data, schema, samplingRatio, verifySchema)\u001b[0m\n\u001b[0;32m   1222\u001b[0m \u001b[38;5;28mself\u001b[39m\u001b[38;5;241m.\u001b[39m_jvm\u001b[38;5;241m.\u001b[39mSparkSession\u001b[38;5;241m.\u001b[39msetActiveSession(\u001b[38;5;28mself\u001b[39m\u001b[38;5;241m.\u001b[39m_jsparkSession)\n\u001b[0;32m   1223\u001b[0m \u001b[38;5;28;01mif\u001b[39;00m \u001b[38;5;28misinstance\u001b[39m(data, DataFrame):\n\u001b[1;32m-> 1224\u001b[0m     \u001b[38;5;28;01mraise\u001b[39;00m \u001b[38;5;167;01mTypeError\u001b[39;00m(\u001b[38;5;124m\"\u001b[39m\u001b[38;5;124mdata is already a DataFrame\u001b[39m\u001b[38;5;124m\"\u001b[39m)\n\u001b[0;32m   1226\u001b[0m \u001b[38;5;28;01mif\u001b[39;00m \u001b[38;5;28misinstance\u001b[39m(schema, \u001b[38;5;28mstr\u001b[39m):\n\u001b[0;32m   1227\u001b[0m     schema \u001b[38;5;241m=\u001b[39m cast(Union[AtomicType, StructType, \u001b[38;5;28mstr\u001b[39m], _parse_datatype_string(schema))\n",
      "\u001b[1;31mTypeError\u001b[0m: data is already a DataFrame"
     ]
    }
   ],
   "source": [
    "novo_cliente = spark.createDataFrame(novo_cliente)"
   ]
  },
  {
   "cell_type": "code",
   "execution_count": 110,
   "id": "9956f369",
   "metadata": {},
   "outputs": [
    {
     "data": {
      "text/html": [
       "<div>\n",
       "<style scoped>\n",
       "    .dataframe tbody tr th:only-of-type {\n",
       "        vertical-align: middle;\n",
       "    }\n",
       "\n",
       "    .dataframe tbody tr th {\n",
       "        vertical-align: top;\n",
       "    }\n",
       "\n",
       "    .dataframe thead th {\n",
       "        text-align: right;\n",
       "    }\n",
       "</style>\n",
       "<table border=\"1\" class=\"dataframe\">\n",
       "  <thead>\n",
       "    <tr style=\"text-align: right;\">\n",
       "      <th></th>\n",
       "      <th>BackupOnline</th>\n",
       "      <th>Conjuge</th>\n",
       "      <th>ContaCorreio</th>\n",
       "      <th>Dependentes</th>\n",
       "      <th>Internet_DSL</th>\n",
       "      <th>Internet_FibraOptica</th>\n",
       "      <th>Internet_Nao</th>\n",
       "      <th>Mais65anos</th>\n",
       "      <th>MaisDeUmaLinhaTelefonica</th>\n",
       "      <th>MesesCobrados</th>\n",
       "      <th>...</th>\n",
       "      <th>MetodoPagamento_DebitoEmConta</th>\n",
       "      <th>SegurancaOnline</th>\n",
       "      <th>SeguroDispositivo</th>\n",
       "      <th>StreamingFilmes</th>\n",
       "      <th>SuporteTecnico</th>\n",
       "      <th>TVaCabo</th>\n",
       "      <th>TelefoneFixo</th>\n",
       "      <th>TipoContrato_DoisAnos</th>\n",
       "      <th>TipoContrato_Mensalmente</th>\n",
       "      <th>TipoContrato_UmAno</th>\n",
       "    </tr>\n",
       "  </thead>\n",
       "  <tbody>\n",
       "    <tr>\n",
       "      <th>0</th>\n",
       "      <td>0</td>\n",
       "      <td>0</td>\n",
       "      <td>1</td>\n",
       "      <td>0</td>\n",
       "      <td>1</td>\n",
       "      <td>0</td>\n",
       "      <td>0</td>\n",
       "      <td>0</td>\n",
       "      <td>0</td>\n",
       "      <td>45.305408</td>\n",
       "      <td>...</td>\n",
       "      <td>0</td>\n",
       "      <td>0</td>\n",
       "      <td>0</td>\n",
       "      <td>1</td>\n",
       "      <td>0</td>\n",
       "      <td>1</td>\n",
       "      <td>0</td>\n",
       "      <td>0</td>\n",
       "      <td>1</td>\n",
       "      <td>0</td>\n",
       "    </tr>\n",
       "  </tbody>\n",
       "</table>\n",
       "<p>1 rows × 24 columns</p>\n",
       "</div>"
      ],
      "text/plain": [
       "   BackupOnline  Conjuge  ContaCorreio  Dependentes  Internet_DSL  \\\n",
       "0             0        0             1            0             1   \n",
       "\n",
       "   Internet_FibraOptica  Internet_Nao  Mais65anos  MaisDeUmaLinhaTelefonica  \\\n",
       "0                     0             0           0                         0   \n",
       "\n",
       "   MesesCobrados  ...  MetodoPagamento_DebitoEmConta  SegurancaOnline  \\\n",
       "0      45.305408  ...                              0                0   \n",
       "\n",
       "   SeguroDispositivo  StreamingFilmes  SuporteTecnico  TVaCabo  TelefoneFixo  \\\n",
       "0                  0                1               0        1             0   \n",
       "\n",
       "   TipoContrato_DoisAnos  TipoContrato_Mensalmente  TipoContrato_UmAno  \n",
       "0                      0                         1                   0  \n",
       "\n",
       "[1 rows x 24 columns]"
      ]
     },
     "execution_count": 110,
     "metadata": {},
     "output_type": "execute_result"
    }
   ],
   "source": [
    "novo_cliente.toPandas()"
   ]
  },
  {
   "cell_type": "code",
   "execution_count": 111,
   "id": "0c25b38b",
   "metadata": {},
   "outputs": [],
   "source": [
    "# Fazer a transformação dos dados do novo cliente\n",
    "assembler = VectorAssembler(inputCols= X, outputCol= 'features')"
   ]
  },
  {
   "cell_type": "code",
   "execution_count": 112,
   "id": "51c1929d",
   "metadata": {},
   "outputs": [],
   "source": [
    "novo_cliente_prep = assembler.transform(novo_cliente).select('features')"
   ]
  },
  {
   "cell_type": "code",
   "execution_count": 114,
   "id": "0d889f78",
   "metadata": {},
   "outputs": [
    {
     "name": "stdout",
     "output_type": "stream",
     "text": [
      "+----------------------------------------------------------------------------+\n",
      "|features                                                                    |\n",
      "+----------------------------------------------------------------------------+\n",
      "|(24,[1,2,11,12,13,14,17,22],[1.0,45.30540797610398,1.0,1.0,1.0,1.0,1.0,1.0])|\n",
      "+----------------------------------------------------------------------------+\n",
      "\n"
     ]
    }
   ],
   "source": [
    "novo_cliente_prep.show(truncate = False)"
   ]
  },
  {
   "cell_type": "code",
   "execution_count": 115,
   "id": "006169a7",
   "metadata": {},
   "outputs": [
    {
     "name": "stdout",
     "output_type": "stream",
     "text": [
      "+--------------------+--------------------+--------------------+----------+\n",
      "|            features|       rawPrediction|         probability|prediction|\n",
      "+--------------------+--------------------+--------------------+----------+\n",
      "|(24,[1,2,11,12,13...|[1.24640781461703...|[0.12464078146170...|       1.0|\n",
      "+--------------------+--------------------+--------------------+----------+\n",
      "\n"
     ]
    }
   ],
   "source": [
    "modelo_rfc_tunning.transform(novo_cliente_prep).show()"
   ]
  },
  {
   "cell_type": "code",
   "execution_count": null,
   "id": "bd46769f",
   "metadata": {},
   "outputs": [],
   "source": []
  }
 ],
 "metadata": {
  "kernelspec": {
   "display_name": "Python 3 (ipykernel)",
   "language": "python",
   "name": "python3"
  },
  "language_info": {
   "codemirror_mode": {
    "name": "ipython",
    "version": 3
   },
   "file_extension": ".py",
   "mimetype": "text/x-python",
   "name": "python",
   "nbconvert_exporter": "python",
   "pygments_lexer": "ipython3",
   "version": "3.10.11"
  }
 },
 "nbformat": 4,
 "nbformat_minor": 5
}
